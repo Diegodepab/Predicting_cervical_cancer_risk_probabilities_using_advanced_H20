{
 "cells": [
  {
   "cell_type": "code",
   "execution_count": null,
   "id": "90fca6d9",
   "metadata": {
    "execution": {
     "iopub.execute_input": "2021-10-12T01:47:33.954647Z",
     "iopub.status.busy": "2021-10-12T01:47:33.953982Z",
     "iopub.status.idle": "2021-10-12T01:48:08.615863Z",
     "shell.execute_reply": "2021-10-12T01:48:08.614914Z",
     "shell.execute_reply.started": "2021-10-12T01:33:38.904687Z"
    },
    "id": "PVrKXCk4njhr",
    "outputId": "b48dff24-2b67-4c0b-c878-430d0f7bbbec",
    "papermill": {
     "duration": 34.78612,
     "end_time": "2021-10-12T01:48:08.616013",
     "exception": false,
     "start_time": "2021-10-12T01:47:33.829893",
     "status": "completed"
    },
    "tags": []
   },
   "outputs": [],
   "source": [
    "import pandas as pd\n",
    "import numpy as np\n",
    "import seaborn as sns\n",
    "import matplotlib.pyplot as plt\n",
    "import zipfile\n",
    "\n",
    "!pip install plotly\n",
    "import plotly.express as px\n",
    "\n",
    "!pip install dataprep\n",
    "from dataprep.eda import create_report\n",
    "\n",
    "!pip install h2o\n",
    "import h2o\n",
    "from h2o.automl import H2OAutoML"
   ]
  },
  {
   "cell_type": "code",
   "execution_count": null,
   "id": "79af1481",
   "metadata": {},
   "outputs": [],
   "source": [
    "cancer_df1 = pd.read_csv(\"C:\\\\Users\\\\Lelin\\\\Downloads\\\\New\\\\cervical_cancer.csv\")"
   ]
  },
  {
   "cell_type": "code",
   "execution_count": null,
   "id": "6edb0045",
   "metadata": {},
   "outputs": [],
   "source": [
    "cancer_df1.head(10)"
   ]
  },
  {
   "cell_type": "code",
   "execution_count": null,
   "id": "fc927065",
   "metadata": {
    "execution": {
     "iopub.execute_input": "2021-10-12T01:48:09.589558Z",
     "iopub.status.busy": "2021-10-12T01:48:09.588692Z",
     "iopub.status.idle": "2021-10-12T01:48:09.592645Z",
     "shell.execute_reply": "2021-10-12T01:48:09.593353Z",
     "shell.execute_reply.started": "2021-10-12T01:34:14.958349Z"
    },
    "id": "YvE5EWs8TmTc",
    "outputId": "c28da97a-0842-4ec5-d00b-3918df87621e",
    "papermill": {
     "duration": 0.135829,
     "end_time": "2021-10-12T01:48:09.593562",
     "exception": false,
     "start_time": "2021-10-12T01:48:09.457733",
     "status": "completed"
    },
    "tags": []
   },
   "outputs": [],
   "source": [
    "cancer_df1.info()"
   ]
  },
  {
   "cell_type": "code",
   "execution_count": null,
   "id": "a114f986",
   "metadata": {
    "execution": {
     "iopub.execute_input": "2021-10-12T01:48:09.822908Z",
     "iopub.status.busy": "2021-10-12T01:48:09.822067Z",
     "iopub.status.idle": "2021-10-12T01:48:09.856441Z",
     "shell.execute_reply": "2021-10-12T01:48:09.856855Z",
     "shell.execute_reply.started": "2021-10-12T01:34:14.985360Z"
    },
    "id": "MnLmPzZQ7PkR",
    "outputId": "3f0b9bfb-afb0-4be4-be91-a431eb77de35",
    "papermill": {
     "duration": 0.151607,
     "end_time": "2021-10-12T01:48:09.856996",
     "exception": false,
     "start_time": "2021-10-12T01:48:09.705389",
     "status": "completed"
    },
    "tags": []
   },
   "outputs": [],
   "source": [
    "cancer_df1.describe()"
   ]
  },
  {
   "cell_type": "code",
   "execution_count": null,
   "id": "149968ab",
   "metadata": {
    "execution": {
     "iopub.execute_input": "2021-10-12T01:48:10.100244Z",
     "iopub.status.busy": "2021-10-12T01:48:10.099691Z",
     "iopub.status.idle": "2021-10-12T01:48:10.155471Z",
     "shell.execute_reply": "2021-10-12T01:48:10.154927Z",
     "shell.execute_reply.started": "2021-10-12T01:34:15.025947Z"
    },
    "id": "VHgTmLH38nCI",
    "outputId": "81723266-95b6-4b30-97b6-64fb7372c114",
    "papermill": {
     "duration": 0.185914,
     "end_time": "2021-10-12T01:48:10.155662",
     "exception": false,
     "start_time": "2021-10-12T01:48:09.969748",
     "status": "completed"
    },
    "tags": []
   },
   "outputs": [],
   "source": [
    "cancer_df1 = cancer_df1.replace('?', np.nan)\n",
    "cancer_df1"
   ]
  },
  {
   "cell_type": "code",
   "execution_count": null,
   "id": "ce67bf10",
   "metadata": {
    "execution": {
     "iopub.execute_input": "2021-10-12T01:48:10.542002Z",
     "iopub.status.busy": "2021-10-12T01:48:10.541159Z",
     "iopub.status.idle": "2021-10-12T01:48:10.551016Z",
     "shell.execute_reply": "2021-10-12T01:48:10.552046Z",
     "shell.execute_reply.started": "2021-10-12T01:34:15.066494Z"
    },
    "id": "gvlceJChTmTd",
    "outputId": "9d6349fa-5cf2-4428-add6-0069e60da555",
    "papermill": {
     "duration": 0.209316,
     "end_time": "2021-10-12T01:48:10.552234",
     "exception": false,
     "start_time": "2021-10-12T01:48:10.342918",
     "status": "completed"
    },
    "tags": []
   },
   "outputs": [],
   "source": [
    "cancer_df1.isnull().sum()"
   ]
  },
  {
   "cell_type": "code",
   "execution_count": null,
   "id": "c7dae7ba",
   "metadata": {
    "execution": {
     "iopub.execute_input": "2021-10-12T01:48:10.815442Z",
     "iopub.status.busy": "2021-10-12T01:48:10.814851Z",
     "iopub.status.idle": "2021-10-12T01:48:11.427150Z",
     "shell.execute_reply": "2021-10-12T01:48:11.426690Z",
     "shell.execute_reply.started": "2021-10-12T01:34:15.086320Z"
    },
    "id": "OGYgX3kGTmTd",
    "outputId": "cea34586-3648-4a91-b8e4-14f88db63986",
    "papermill": {
     "duration": 0.734239,
     "end_time": "2021-10-12T01:48:11.427304",
     "exception": false,
     "start_time": "2021-10-12T01:48:10.693065",
     "status": "completed"
    },
    "tags": []
   },
   "outputs": [],
   "source": [
    "plt.figure(figsize = (10, 10))\n",
    "sns.heatmap(cancer_df1.isnull(), yticklabels=False)"
   ]
  },
  {
   "cell_type": "code",
   "execution_count": null,
   "id": "f14132f8",
   "metadata": {
    "execution": {
     "iopub.execute_input": "2021-10-12T01:48:12.162201Z",
     "iopub.status.busy": "2021-10-12T01:48:12.161601Z",
     "iopub.status.idle": "2021-10-12T01:48:12.190005Z",
     "shell.execute_reply": "2021-10-12T01:48:12.190655Z",
     "shell.execute_reply.started": "2021-10-12T01:34:15.757547Z"
    },
    "id": "UVs_sLz6TmTe",
    "outputId": "c513925e-496c-41bc-a47b-888f257c2b47",
    "papermill": {
     "duration": 0.148872,
     "end_time": "2021-10-12T01:48:12.190805",
     "exception": false,
     "start_time": "2021-10-12T01:48:12.041933",
     "status": "completed"
    },
    "tags": []
   },
   "outputs": [],
   "source": [
    "cancer_df1 = cancer_df1.apply(pd.to_numeric)\n",
    "cancer_df1.info()"
   ]
  },
  {
   "cell_type": "code",
   "execution_count": null,
   "id": "ade74a8e",
   "metadata": {
    "execution": {
     "iopub.execute_input": "2021-10-12T01:48:12.430791Z",
     "iopub.status.busy": "2021-10-12T01:48:12.429625Z",
     "iopub.status.idle": "2021-10-12T01:48:12.510550Z",
     "shell.execute_reply": "2021-10-12T01:48:12.510118Z",
     "shell.execute_reply.started": "2021-10-12T01:34:15.793127Z"
    },
    "id": "1dW5C9DUTmTe",
    "outputId": "b835745d-6f88-4a8f-c0e7-9945064cc12a",
    "papermill": {
     "duration": 0.206072,
     "end_time": "2021-10-12T01:48:12.510670",
     "exception": false,
     "start_time": "2021-10-12T01:48:12.304598",
     "status": "completed"
    },
    "tags": []
   },
   "outputs": [],
   "source": [
    "cancer_df1.describe()"
   ]
  },
  {
   "cell_type": "code",
   "execution_count": null,
   "id": "31431cf0",
   "metadata": {
    "execution": {
     "iopub.execute_input": "2021-10-12T01:48:12.744993Z",
     "iopub.status.busy": "2021-10-12T01:48:12.743204Z",
     "iopub.status.idle": "2021-10-12T01:48:12.751481Z",
     "shell.execute_reply": "2021-10-12T01:48:12.751061Z",
     "shell.execute_reply.started": "2021-10-12T01:34:15.884490Z"
    },
    "id": "yMJYn5urTmTe",
    "outputId": "9b63e963-cb8f-4d80-928d-bec13ebb9531",
    "papermill": {
     "duration": 0.126304,
     "end_time": "2021-10-12T01:48:12.751596",
     "exception": false,
     "start_time": "2021-10-12T01:48:12.625292",
     "status": "completed"
    },
    "tags": []
   },
   "outputs": [],
   "source": [
    "cancer_df1.mean()"
   ]
  },
  {
   "cell_type": "code",
   "execution_count": null,
   "id": "c96dfe41",
   "metadata": {
    "execution": {
     "iopub.execute_input": "2021-10-12T01:48:12.989345Z",
     "iopub.status.busy": "2021-10-12T01:48:12.988366Z",
     "iopub.status.idle": "2021-10-12T01:48:13.019335Z",
     "shell.execute_reply": "2021-10-12T01:48:13.019917Z",
     "shell.execute_reply.started": "2021-10-12T01:34:15.899132Z"
    },
    "id": "x9Jh3s_STmTf",
    "outputId": "91ebbb32-2069-4a0e-9a06-44575a6d7f2f",
    "papermill": {
     "duration": 0.153621,
     "end_time": "2021-10-12T01:48:13.020085",
     "exception": false,
     "start_time": "2021-10-12T01:48:12.866464",
     "status": "completed"
    },
    "tags": []
   },
   "outputs": [],
   "source": [
    "cancer_df1 = cancer_df1.fillna(round(cancer_df1.mean()))\n",
    "cancer_df1.head()"
   ]
  },
  {
   "cell_type": "code",
   "execution_count": null,
   "id": "a40f8f87",
   "metadata": {
    "execution": {
     "iopub.execute_input": "2021-10-12T01:49:02.291940Z",
     "iopub.status.busy": "2021-10-12T01:49:02.291141Z",
     "iopub.status.idle": "2021-10-12T01:49:09.715755Z",
     "shell.execute_reply": "2021-10-12T01:49:09.716546Z",
     "shell.execute_reply.started": "2021-10-12T01:34:33.906583Z"
    },
    "id": "VvoT7ZIiyXFM",
    "outputId": "641248f9-df16-4d70-cdc4-669c259155af",
    "papermill": {
     "duration": 8.931853,
     "end_time": "2021-10-12T01:49:09.716775",
     "exception": false,
     "start_time": "2021-10-12T01:49:00.784922",
     "status": "completed"
    },
    "tags": []
   },
   "outputs": [],
   "source": [
    "h2o.init()"
   ]
  },
  {
   "cell_type": "code",
   "execution_count": null,
   "id": "c71f410e",
   "metadata": {
    "execution": {
     "iopub.execute_input": "2021-10-12T01:49:12.374741Z",
     "iopub.status.busy": "2021-10-12T01:49:12.373870Z",
     "iopub.status.idle": "2021-10-12T01:49:13.541497Z",
     "shell.execute_reply": "2021-10-12T01:49:13.541990Z",
     "shell.execute_reply.started": "2021-10-12T01:34:41.408225Z"
    },
    "id": "LIslmuN89I3z",
    "outputId": "063e65fe-9409-429e-d81d-1470bb26de23",
    "papermill": {
     "duration": 2.548396,
     "end_time": "2021-10-12T01:49:13.542134",
     "exception": false,
     "start_time": "2021-10-12T01:49:10.993738",
     "status": "completed"
    },
    "scrolled": true,
    "tags": []
   },
   "outputs": [],
   "source": [
    "h2o_df = h2o.H2OFrame(cancer_df1)\n",
    "\n",
    "h2o_df"
   ]
  },
  {
   "cell_type": "code",
   "execution_count": null,
   "id": "57174072",
   "metadata": {
    "execution": {
     "iopub.execute_input": "2021-10-12T01:49:16.289831Z",
     "iopub.status.busy": "2021-10-12T01:49:16.268529Z",
     "iopub.status.idle": "2021-10-12T01:49:16.334615Z",
     "shell.execute_reply": "2021-10-12T01:49:16.335683Z",
     "shell.execute_reply.started": "2021-10-12T01:34:42.629301Z"
    },
    "id": "5LQy3Zu1TmTh",
    "outputId": "3424a98f-3a34-4007-b0ec-35dd18dd8fb2",
    "papermill": {
     "duration": 1.451913,
     "end_time": "2021-10-12T01:49:16.335908",
     "exception": false,
     "start_time": "2021-10-12T01:49:14.883995",
     "status": "completed"
    },
    "tags": []
   },
   "outputs": [],
   "source": [
    "h2o_df.describe()"
   ]
  },
  {
   "cell_type": "code",
   "execution_count": null,
   "id": "609fc11a",
   "metadata": {
    "execution": {
     "iopub.execute_input": "2021-10-12T01:49:19.126911Z",
     "iopub.status.busy": "2021-10-12T01:49:19.123875Z",
     "iopub.status.idle": "2021-10-12T01:49:19.408507Z",
     "shell.execute_reply": "2021-10-12T01:49:19.407123Z",
     "shell.execute_reply.started": "2021-10-12T01:34:42.690821Z"
    },
    "id": "Juaapkdk9cp1",
    "papermill": {
     "duration": 1.729688,
     "end_time": "2021-10-12T01:49:19.408706",
     "exception": false,
     "start_time": "2021-10-12T01:49:17.679018",
     "status": "completed"
    },
    "tags": []
   },
   "outputs": [],
   "source": [
    "train, test = h2o_df.split_frame(ratios=[0.75], seed=121)"
   ]
  },
  {
   "cell_type": "code",
   "execution_count": null,
   "id": "56313a15",
   "metadata": {
    "execution": {
     "iopub.execute_input": "2021-10-12T01:49:23.213723Z",
     "iopub.status.busy": "2021-10-12T01:49:23.212674Z",
     "iopub.status.idle": "2021-10-12T01:49:23.215323Z",
     "shell.execute_reply": "2021-10-12T01:49:23.214507Z",
     "shell.execute_reply.started": "2021-10-12T01:34:43.156955Z"
    },
    "id": "_oFDmIpm9oHK",
    "papermill": {
     "duration": 1.243796,
     "end_time": "2021-10-12T01:49:23.215513",
     "exception": false,
     "start_time": "2021-10-12T01:49:21.971717",
     "status": "completed"
    },
    "tags": []
   },
   "outputs": [],
   "source": [
    "X = train.columns\n",
    "y = 'ca_cervix'\n",
    "X.remove(y)"
   ]
  },
  {
   "cell_type": "code",
   "execution_count": null,
   "id": "ec35c27e",
   "metadata": {
    "execution": {
     "iopub.execute_input": "2021-10-12T01:49:25.694064Z",
     "iopub.status.busy": "2021-10-12T01:49:25.693091Z",
     "iopub.status.idle": "2021-10-12T01:49:25.695075Z",
     "shell.execute_reply": "2021-10-12T01:49:25.695549Z",
     "shell.execute_reply.started": "2021-10-12T01:34:43.165866Z"
    },
    "id": "yJm99dgpXijT",
    "papermill": {
     "duration": 1.249577,
     "end_time": "2021-10-12T01:49:25.695687",
     "exception": false,
     "start_time": "2021-10-12T01:49:24.446110",
     "status": "completed"
    },
    "tags": []
   },
   "outputs": [],
   "source": [
    "train[y] = train[y].asfactor()\n",
    "test[y] = test[y].asfactor()"
   ]
  },
  {
   "cell_type": "code",
   "execution_count": null,
   "id": "bbfb80cb",
   "metadata": {
    "execution": {
     "iopub.execute_input": "2021-10-12T01:49:28.552056Z",
     "iopub.status.busy": "2021-10-12T01:49:28.551126Z",
     "iopub.status.idle": "2021-10-12T01:49:28.556221Z",
     "shell.execute_reply": "2021-10-12T01:49:28.556876Z",
     "shell.execute_reply.started": "2021-10-12T01:34:43.177750Z"
    },
    "id": "Qb4XnXlgTmTi",
    "outputId": "194d145b-7702-48f3-af7f-658761df94ca",
    "papermill": {
     "duration": 1.473026,
     "end_time": "2021-10-12T01:49:28.557096",
     "exception": false,
     "start_time": "2021-10-12T01:49:27.084070",
     "status": "completed"
    },
    "tags": []
   },
   "outputs": [],
   "source": [
    "X"
   ]
  },
  {
   "cell_type": "code",
   "execution_count": null,
   "id": "0509d2bf",
   "metadata": {
    "execution": {
     "iopub.execute_input": "2021-10-12T01:49:31.015671Z",
     "iopub.status.busy": "2021-10-12T01:49:31.015010Z",
     "iopub.status.idle": "2021-10-12T01:49:31.017801Z",
     "shell.execute_reply": "2021-10-12T01:49:31.018192Z",
     "shell.execute_reply.started": "2021-10-12T01:34:43.194051Z"
    },
    "id": "U9rDpFjSTmTi",
    "outputId": "83d53b65-554e-43ce-f53c-d1c655e98ac8",
    "papermill": {
     "duration": 1.236304,
     "end_time": "2021-10-12T01:49:31.018357",
     "exception": false,
     "start_time": "2021-10-12T01:49:29.782053",
     "status": "completed"
    },
    "tags": []
   },
   "outputs": [],
   "source": [
    "y"
   ]
  },
  {
   "cell_type": "code",
   "execution_count": null,
   "id": "26482f76",
   "metadata": {
    "execution": {
     "iopub.execute_input": "2021-10-12T01:49:33.585599Z",
     "iopub.status.busy": "2021-10-12T01:49:33.584665Z",
     "iopub.status.idle": "2021-10-12T01:55:52.642992Z",
     "shell.execute_reply": "2021-10-12T01:55:52.643650Z",
     "shell.execute_reply.started": "2021-10-12T01:34:43.207317Z"
    },
    "id": "5wDyJxbTTmTi",
    "outputId": "669979dc-350b-45db-d372-7316ed8eb760",
    "papermill": {
     "duration": 380.437503,
     "end_time": "2021-10-12T01:55:52.643871",
     "exception": false,
     "start_time": "2021-10-12T01:49:32.206368",
     "status": "completed"
    },
    "tags": []
   },
   "outputs": [],
   "source": [
    "aml = H2OAutoML(balance_classes=True,\n",
    "                stopping_metric='AUC',    \n",
    "                seed=121,\n",
    "                max_models=20,\n",
    "                exclude_algos = [\"StackedEnsemble\"])\n",
    "\n",
    "aml.train(x=X, \n",
    "          y=y, \n",
    "          training_frame=train)"
   ]
  },
  {
   "cell_type": "code",
   "execution_count": null,
   "id": "4211701e",
   "metadata": {
    "execution": {
     "iopub.execute_input": "2021-10-12T01:55:57.819338Z",
     "iopub.status.busy": "2021-10-12T01:55:57.818455Z",
     "iopub.status.idle": "2021-10-12T01:55:57.832177Z",
     "shell.execute_reply": "2021-10-12T01:55:57.832870Z",
     "shell.execute_reply.started": "2021-10-12T01:41:00.879478Z"
    },
    "id": "uPqUwMKKTmTl",
    "outputId": "cc9a60a8-aa1d-485a-d3ea-f81a2e607ec7",
    "papermill": {
     "duration": 1.401405,
     "end_time": "2021-10-12T01:55:57.833011",
     "exception": false,
     "start_time": "2021-10-12T01:55:56.431606",
     "status": "completed"
    },
    "scrolled": false,
    "tags": []
   },
   "outputs": [],
   "source": [
    "lb = aml.leaderboard\n",
    "lb.head(rows=lb.nrows)"
   ]
  },
  {
   "cell_type": "code",
   "execution_count": null,
   "id": "72e99a44",
   "metadata": {
    "execution": {
     "iopub.execute_input": "2021-10-12T01:56:00.785164Z",
     "iopub.status.busy": "2021-10-12T01:56:00.784121Z",
     "iopub.status.idle": "2021-10-12T01:56:52.742580Z",
     "shell.execute_reply": "2021-10-12T01:56:52.741924Z",
     "shell.execute_reply.started": "2021-10-12T01:41:00.904390Z"
    },
    "id": "5ikjSJwxTmTl",
    "outputId": "26b49c23-59f2-427a-f939-51bd5294ef74",
    "papermill": {
     "duration": 53.668687,
     "end_time": "2021-10-12T01:56:52.742752",
     "exception": false,
     "start_time": "2021-10-12T01:55:59.074065",
     "status": "completed"
    },
    "tags": []
   },
   "outputs": [],
   "source": [
    "exm = aml.explain(test)"
   ]
  },
  {
   "cell_type": "code",
   "execution_count": null,
   "id": "42fe5ae0",
   "metadata": {
    "execution": {
     "iopub.execute_input": "2021-10-12T01:56:55.284238Z",
     "iopub.status.busy": "2021-10-12T01:56:55.283353Z",
     "iopub.status.idle": "2021-10-12T01:57:02.425537Z",
     "shell.execute_reply": "2021-10-12T01:57:02.426186Z",
     "shell.execute_reply.started": "2021-10-12T01:41:54.466746Z"
    },
    "id": "H6UJ5PQhhRd6",
    "outputId": "3bc7618f-62f1-4360-d77e-f2abeb387c64",
    "papermill": {
     "duration": 8.409566,
     "end_time": "2021-10-12T01:57:02.426406",
     "exception": false,
     "start_time": "2021-10-12T01:56:54.016840",
     "status": "completed"
    },
    "scrolled": false,
    "tags": []
   },
   "outputs": [],
   "source": [
    "exm = aml.leader.explain(test)"
   ]
  },
  {
   "cell_type": "code",
   "execution_count": null,
   "id": "7472118d",
   "metadata": {
    "execution": {
     "iopub.execute_input": "2021-10-12T01:57:05.512009Z",
     "iopub.status.busy": "2021-10-12T01:57:05.511110Z",
     "iopub.status.idle": "2021-10-12T01:57:05.780275Z",
     "shell.execute_reply": "2021-10-12T01:57:05.779652Z",
     "shell.execute_reply.started": "2021-10-12T01:42:01.748746Z"
    },
    "id": "SqnaWutLhVCC",
    "outputId": "f0741ba1-81c4-42e5-d6eb-a5395aeb093e",
    "papermill": {
     "duration": 2.052304,
     "end_time": "2021-10-12T01:57:05.780440",
     "exception": false,
     "start_time": "2021-10-12T01:57:03.728136",
     "status": "completed"
    },
    "tags": []
   },
   "outputs": [],
   "source": [
    "preds = aml.leader.predict(test)"
   ]
  },
  {
   "cell_type": "code",
   "execution_count": null,
   "id": "ed2d541a",
   "metadata": {
    "execution": {
     "iopub.execute_input": "2021-10-12T01:57:08.452834Z",
     "iopub.status.busy": "2021-10-12T01:57:08.405596Z",
     "iopub.status.idle": "2021-10-12T01:57:08.477979Z",
     "shell.execute_reply": "2021-10-12T01:57:08.478398Z",
     "shell.execute_reply.started": "2021-10-12T01:42:01.804846Z"
    },
    "id": "zb2-he5nhWh1",
    "outputId": "8003c616-39aa-46c0-a4a0-36ae271a3857",
    "papermill": {
     "duration": 1.4075,
     "end_time": "2021-10-12T01:57:08.478616",
     "exception": false,
     "start_time": "2021-10-12T01:57:07.071116",
     "status": "completed"
    },
    "scrolled": true,
    "tags": []
   },
   "outputs": [],
   "source": [
    "df = test.cbind(preds)\n",
    "\n",
    "df"
   ]
  },
  {
   "cell_type": "code",
   "execution_count": null,
   "id": "be680257",
   "metadata": {
    "execution": {
     "iopub.execute_input": "2021-10-12T01:57:11.280347Z",
     "iopub.status.busy": "2021-10-12T01:57:11.279473Z",
     "iopub.status.idle": "2021-10-12T01:57:11.290051Z",
     "shell.execute_reply": "2021-10-12T01:57:11.290502Z",
     "shell.execute_reply.started": "2021-10-12T01:42:01.931501Z"
    },
    "id": "OsKt77sNhZPV",
    "papermill": {
     "duration": 1.300838,
     "end_time": "2021-10-12T01:57:11.290650",
     "exception": false,
     "start_time": "2021-10-12T01:57:09.989812",
     "status": "completed"
    },
    "tags": []
   },
   "outputs": [],
   "source": [
    "df = h2o.as_list(df)"
   ]
  },
  {
   "cell_type": "code",
   "execution_count": null,
   "id": "93468706",
   "metadata": {
    "execution": {
     "iopub.execute_input": "2021-10-12T01:57:13.844054Z",
     "iopub.status.busy": "2021-10-12T01:57:13.842621Z",
     "iopub.status.idle": "2021-10-12T01:57:13.855775Z",
     "shell.execute_reply": "2021-10-12T01:57:13.856586Z",
     "shell.execute_reply.started": "2021-10-12T01:42:01.949190Z"
    },
    "id": "acA-HLZ8hbOI",
    "outputId": "23aa784e-4507-4229-c31a-d5fc5edc7d35",
    "papermill": {
     "duration": 1.292816,
     "end_time": "2021-10-12T01:57:13.856733",
     "exception": false,
     "start_time": "2021-10-12T01:57:12.563917",
     "status": "completed"
    },
    "tags": []
   },
   "outputs": [],
   "source": [
    "preds = df[['ca_cervix', 'predict']]\n",
    "preds"
   ]
  },
  {
   "cell_type": "code",
   "execution_count": null,
   "id": "f9f51065",
   "metadata": {
    "execution": {
     "iopub.execute_input": "2021-10-12T01:57:16.604886Z",
     "iopub.status.busy": "2021-10-12T01:57:16.603917Z",
     "iopub.status.idle": "2021-10-12T01:57:16.610826Z",
     "shell.execute_reply": "2021-10-12T01:57:16.611922Z",
     "shell.execute_reply.started": "2021-10-12T01:42:01.962690Z"
    },
    "id": "kaz9Kb2ghRz3",
    "papermill": {
     "duration": 1.327449,
     "end_time": "2021-10-12T01:57:16.612145",
     "exception": false,
     "start_time": "2021-10-12T01:57:15.284696",
     "status": "completed"
    },
    "tags": []
   },
   "outputs": [],
   "source": [
    "df.to_csv('df1.csv')\n",
    "preds.to_csv('preds1.csv')"
   ]
  },
  {
   "cell_type": "code",
   "execution_count": null,
   "id": "a4e0fbff",
   "metadata": {
    "execution": {
     "iopub.execute_input": "2021-10-12T01:57:22.154771Z",
     "iopub.status.busy": "2021-10-12T01:57:22.151601Z",
     "iopub.status.idle": "2021-10-12T01:57:28.861427Z",
     "shell.execute_reply": "2021-10-12T01:57:28.860848Z",
     "shell.execute_reply.started": "2021-10-12T01:42:01.976959Z"
    },
    "id": "K1vvzarOdL7l",
    "outputId": "b72aa035-c37a-4f41-cff8-740639557e04",
    "papermill": {
     "duration": 8.112627,
     "end_time": "2021-10-12T01:57:28.861560",
     "exception": false,
     "start_time": "2021-10-12T01:57:20.748933",
     "status": "completed"
    },
    "scrolled": true,
    "tags": []
   },
   "outputs": [],
   "source": [
    "!pip install lime\n",
    "import lime\n",
    "import lime.lime_tabular"
   ]
  },
  {
   "cell_type": "code",
   "execution_count": null,
   "id": "e28d7de9",
   "metadata": {
    "execution": {
     "iopub.execute_input": "2021-10-12T01:57:31.621150Z",
     "iopub.status.busy": "2021-10-12T01:57:31.620482Z",
     "iopub.status.idle": "2021-10-12T01:57:31.623280Z",
     "shell.execute_reply": "2021-10-12T01:57:31.623682Z",
     "shell.execute_reply.started": "2021-10-12T01:42:08.581676Z"
    },
    "id": "LUz1wbSOdsZf",
    "outputId": "d1659ad1-5a41-4d63-c96a-355e7cc094e6",
    "papermill": {
     "duration": 1.4822,
     "end_time": "2021-10-12T01:57:31.623813",
     "exception": false,
     "start_time": "2021-10-12T01:57:30.141613",
     "status": "completed"
    },
    "tags": []
   },
   "outputs": [],
   "source": [
    "feature_names = train.columns[0: -1]\n",
    "feature_names"
   ]
  },
  {
   "cell_type": "code",
   "execution_count": null,
   "id": "6ca355a7",
   "metadata": {
    "execution": {
     "iopub.execute_input": "2021-10-12T01:57:34.371702Z",
     "iopub.status.busy": "2021-10-12T01:57:34.370862Z",
     "iopub.status.idle": "2021-10-12T01:57:34.443566Z",
     "shell.execute_reply": "2021-10-12T01:57:34.443015Z",
     "shell.execute_reply.started": "2021-10-12T01:42:08.596024Z"
    },
    "id": "op0QbEaFdzv2",
    "outputId": "89352be6-3299-4e15-9757-70823c1d8a4d",
    "papermill": {
     "duration": 1.536101,
     "end_time": "2021-10-12T01:57:34.443722",
     "exception": false,
     "start_time": "2021-10-12T01:57:32.907621",
     "status": "completed"
    },
    "tags": []
   },
   "outputs": [],
   "source": [
    "train_features_numpy = train[feature_names].as_data_frame().values\n",
    "train_features_numpy"
   ]
  },
  {
   "cell_type": "code",
   "execution_count": null,
   "id": "49c2773a",
   "metadata": {
    "execution": {
     "iopub.execute_input": "2021-10-12T01:57:37.564786Z",
     "iopub.status.busy": "2021-10-12T01:57:37.563846Z",
     "iopub.status.idle": "2021-10-12T01:57:37.582229Z",
     "shell.execute_reply": "2021-10-12T01:57:37.581819Z",
     "shell.execute_reply.started": "2021-10-12T01:42:08.673697Z"
    },
    "id": "89BGeVYkdNwp",
    "papermill": {
     "duration": 1.541414,
     "end_time": "2021-10-12T01:57:37.582365",
     "exception": false,
     "start_time": "2021-10-12T01:57:36.040951",
     "status": "completed"
    },
    "tags": []
   },
   "outputs": [],
   "source": [
    "explainer = lime.lime_tabular.LimeTabularExplainer(train_features_numpy, \n",
    "                                                   feature_names = feature_names,\n",
    "                                                   mode='classification')"
   ]
  },
  {
   "cell_type": "code",
   "execution_count": null,
   "id": "8bfc71ec",
   "metadata": {
    "execution": {
     "iopub.execute_input": "2021-10-12T01:57:40.174795Z",
     "iopub.status.busy": "2021-10-12T01:57:40.173844Z",
     "iopub.status.idle": "2021-10-12T01:57:40.177610Z",
     "shell.execute_reply": "2021-10-12T01:57:40.178285Z",
     "shell.execute_reply.started": "2021-10-12T01:42:08.701236Z"
    },
    "id": "PHlUtlJ1glf_",
    "papermill": {
     "duration": 1.2931,
     "end_time": "2021-10-12T01:57:40.178513",
     "exception": false,
     "start_time": "2021-10-12T01:57:38.885413",
     "status": "completed"
    },
    "tags": []
   },
   "outputs": [],
   "source": [
    "def findPrediction(instance):\n",
    "    #instance will be in type of numpy\n",
    "    df = pd.DataFrame(data = instance, columns = feature_names)\n",
    "    hf = h2o.H2OFrame(df)\n",
    "    predictions = aml.leader.predict(hf).as_data_frame()\n",
    "    predictions = predictions.iloc[:,1:].values\n",
    "    return predictions"
   ]
  },
  {
   "cell_type": "code",
   "execution_count": null,
   "id": "a73782a1",
   "metadata": {},
   "outputs": [],
   "source": [
    "train"
   ]
  },
  {
   "cell_type": "code",
   "execution_count": null,
   "id": "b5252eb4",
   "metadata": {},
   "outputs": [],
   "source": [
    "test"
   ]
  },
  {
   "cell_type": "code",
   "execution_count": null,
   "id": "6a56b52a",
   "metadata": {
    "execution": {
     "iopub.execute_input": "2021-10-12T01:57:42.973888Z",
     "iopub.status.busy": "2021-10-12T01:57:42.972837Z",
     "iopub.status.idle": "2021-10-12T01:57:42.983142Z",
     "shell.execute_reply": "2021-10-12T01:57:42.983704Z",
     "shell.execute_reply.started": "2021-10-12T01:42:08.709471Z"
    },
    "id": "SW1SQ6GPdgB9",
    "papermill": {
     "duration": 1.518948,
     "end_time": "2021-10-12T01:57:42.983868",
     "exception": false,
     "start_time": "2021-10-12T01:57:41.464920",
     "status": "completed"
    },
    "tags": []
   },
   "outputs": [],
   "source": [
    "idx = 10\n",
    "test_df = test.as_data_frame()\n",
    "test_numpy = test_df.iloc[idx].values[0:-1]"
   ]
  },
  {
   "cell_type": "code",
   "execution_count": null,
   "id": "ca49c9b6",
   "metadata": {},
   "outputs": [],
   "source": [
    "print(test_df.shape)"
   ]
  },
  {
   "cell_type": "code",
   "execution_count": null,
   "id": "81c44b26",
   "metadata": {
    "execution": {
     "iopub.execute_input": "2021-10-12T01:57:45.559551Z",
     "iopub.status.busy": "2021-10-12T01:57:45.557861Z",
     "iopub.status.idle": "2021-10-12T01:57:45.562648Z",
     "shell.execute_reply": "2021-10-12T01:57:45.561875Z",
     "shell.execute_reply.started": "2021-10-12T01:42:08.729290Z"
    },
    "id": "lHTzEY4X1vS2",
    "outputId": "52c93429-b8d2-4a5e-8994-2d6249c193f5",
    "papermill": {
     "duration": 1.293758,
     "end_time": "2021-10-12T01:57:45.562840",
     "exception": false,
     "start_time": "2021-10-12T01:57:44.269082",
     "status": "completed"
    },
    "tags": []
   },
   "outputs": [],
   "source": [
    "test_numpy"
   ]
  },
  {
   "cell_type": "code",
   "execution_count": null,
   "id": "12a962a7",
   "metadata": {
    "execution": {
     "iopub.execute_input": "2021-10-12T01:57:48.185335Z",
     "iopub.status.busy": "2021-10-12T01:57:48.184367Z",
     "iopub.status.idle": "2021-10-12T01:57:52.091096Z",
     "shell.execute_reply": "2021-10-12T01:57:52.092409Z",
     "shell.execute_reply.started": "2021-10-12T01:42:08.740962Z"
    },
    "id": "zLllFXfKfYec",
    "outputId": "ee5d4854-9c42-4490-f894-10fa2dff5838",
    "papermill": {
     "duration": 5.214584,
     "end_time": "2021-10-12T01:57:52.092625",
     "exception": false,
     "start_time": "2021-10-12T01:57:46.878041",
     "status": "completed"
    },
    "tags": []
   },
   "outputs": [],
   "source": [
    "exp = explainer.explain_instance(test_numpy, \n",
    "                                 findPrediction, \n",
    "                                 num_features = len(feature_names))\n",
    "exp"
   ]
  },
  {
   "cell_type": "code",
   "execution_count": null,
   "id": "d623139b",
   "metadata": {
    "execution": {
     "iopub.execute_input": "2021-10-12T01:57:55.049349Z",
     "iopub.status.busy": "2021-10-12T01:57:55.048765Z",
     "iopub.status.idle": "2021-10-12T01:57:55.120755Z",
     "shell.execute_reply": "2021-10-12T01:57:55.121187Z",
     "shell.execute_reply.started": "2021-10-12T01:42:13.159519Z"
    },
    "id": "SY0L6B2Xfe_D",
    "outputId": "30021ef3-836f-4d25-cc6c-2207f00272b0",
    "papermill": {
     "duration": 1.377619,
     "end_time": "2021-10-12T01:57:55.121367",
     "exception": false,
     "start_time": "2021-10-12T01:57:53.743748",
     "status": "completed"
    },
    "scrolled": false,
    "tags": []
   },
   "outputs": [],
   "source": [
    "exp.show_in_notebook(show_table=True, show_all=True)"
   ]
  },
  {
   "cell_type": "code",
   "execution_count": null,
   "id": "48d73f5a",
   "metadata": {},
   "outputs": [],
   "source": [
    "exp.save_to_file('lime11.html')"
   ]
  },
  {
   "cell_type": "code",
   "execution_count": null,
   "id": "e644bbe9",
   "metadata": {
    "execution": {
     "iopub.execute_input": "2021-10-12T01:57:57.863318Z",
     "iopub.status.busy": "2021-10-12T01:57:57.862757Z",
     "iopub.status.idle": "2021-10-12T01:58:01.951402Z",
     "shell.execute_reply": "2021-10-12T01:58:01.952071Z",
     "shell.execute_reply.started": "2021-10-12T01:42:13.244203Z"
    },
    "id": "XgBrYZZfN0kj",
    "outputId": "b1ac98c1-00bb-4bf3-9f44-479c003850ad",
    "papermill": {
     "duration": 5.451698,
     "end_time": "2021-10-12T01:58:01.952310",
     "exception": false,
     "start_time": "2021-10-12T01:57:56.500612",
     "status": "completed"
    },
    "scrolled": true,
    "tags": []
   },
   "outputs": [],
   "source": [
    "idx = 12\n",
    "test_df = test.as_data_frame()\n",
    "test_numpy = test_df.iloc[idx].values[0:-1]\n",
    "\n",
    "exp = explainer.explain_instance(test_numpy, \n",
    "                                 findPrediction, \n",
    "                                 num_features = len(feature_names))\n",
    "\n",
    "exp.show_in_notebook(show_table=True, show_all=True)"
   ]
  },
  {
   "cell_type": "code",
   "execution_count": null,
   "id": "a728d53d",
   "metadata": {},
   "outputs": [],
   "source": [
    "exp.save_to_file('lime12.html')"
   ]
  },
  {
   "cell_type": "code",
   "execution_count": null,
   "id": "876cfbf4",
   "metadata": {
    "execution": {
     "iopub.execute_input": "2021-10-12T01:58:05.095221Z",
     "iopub.status.busy": "2021-10-12T01:58:05.094424Z",
     "iopub.status.idle": "2021-10-12T01:58:09.296695Z",
     "shell.execute_reply": "2021-10-12T01:58:09.297540Z",
     "shell.execute_reply.started": "2021-10-12T01:42:17.197360Z"
    },
    "id": "3j_ZS2S5N8f5",
    "outputId": "080dac03-ca2f-4753-ebec-6ecf00bb260c",
    "papermill": {
     "duration": 5.870973,
     "end_time": "2021-10-12T01:58:09.297784",
     "exception": false,
     "start_time": "2021-10-12T01:58:03.426811",
     "status": "completed"
    },
    "scrolled": false,
    "tags": []
   },
   "outputs": [],
   "source": [
    "idx = 15\n",
    "test_df = test.as_data_frame()\n",
    "test_numpy = test_df.iloc[idx].values[0:-1]\n",
    "\n",
    "exp = explainer.explain_instance(test_numpy, \n",
    "                                 findPrediction, \n",
    "                                 num_features = len(feature_names))\n",
    "\n",
    "exp.show_in_notebook(show_table=True, show_all=True)"
   ]
  },
  {
   "cell_type": "code",
   "execution_count": null,
   "id": "8ff876bc",
   "metadata": {},
   "outputs": [],
   "source": [
    "exp.save_to_file('lime13.html')"
   ]
  }
 ],
 "metadata": {
  "kernelspec": {
   "display_name": "Python 3 (ipykernel)",
   "language": "python",
   "name": "python3"
  },
  "language_info": {
   "codemirror_mode": {
    "name": "ipython",
    "version": 3
   },
   "file_extension": ".py",
   "mimetype": "text/x-python",
   "name": "python",
   "nbconvert_exporter": "python",
   "pygments_lexer": "ipython3",
   "version": "3.8.8"
  },
  "papermill": {
   "default_parameters": {},
   "duration": 645.706094,
   "end_time": "2021-10-12T01:58:13.046177",
   "environment_variables": {},
   "exception": null,
   "input_path": "__notebook__.ipynb",
   "output_path": "__notebook__.ipynb",
   "parameters": {},
   "start_time": "2021-10-12T01:47:27.340083",
   "version": "2.3.3"
  },
  "widgets": {
   "application/vnd.jupyter.widget-state+json": {
    "state": {
     "235d27eb8d044981b4a90b827bdeebea": {
      "model_module": "@jupyter-widgets/base",
      "model_module_version": "1.2.0",
      "model_name": "LayoutModel",
      "state": {
       "_model_module": "@jupyter-widgets/base",
       "_model_module_version": "1.2.0",
       "_model_name": "LayoutModel",
       "_view_count": null,
       "_view_module": "@jupyter-widgets/base",
       "_view_module_version": "1.2.0",
       "_view_name": "LayoutView",
       "align_content": null,
       "align_items": null,
       "align_self": null,
       "border": null,
       "bottom": null,
       "display": null,
       "flex": "2",
       "flex_flow": null,
       "grid_area": null,
       "grid_auto_columns": null,
       "grid_auto_flow": null,
       "grid_auto_rows": null,
       "grid_column": null,
       "grid_gap": null,
       "grid_row": null,
       "grid_template_areas": null,
       "grid_template_columns": null,
       "grid_template_rows": null,
       "height": null,
       "justify_content": null,
       "justify_items": null,
       "left": null,
       "margin": null,
       "max_height": null,
       "max_width": null,
       "min_height": null,
       "min_width": null,
       "object_fit": null,
       "object_position": null,
       "order": null,
       "overflow": null,
       "overflow_x": null,
       "overflow_y": null,
       "padding": null,
       "right": null,
       "top": null,
       "visibility": null,
       "width": null
      }
     },
     "301de9d4df7e4386ab973635b5841974": {
      "model_module": "@jupyter-widgets/controls",
      "model_module_version": "1.5.0",
      "model_name": "DescriptionStyleModel",
      "state": {
       "_model_module": "@jupyter-widgets/controls",
       "_model_module_version": "1.5.0",
       "_model_name": "DescriptionStyleModel",
       "_view_count": null,
       "_view_module": "@jupyter-widgets/base",
       "_view_module_version": "1.2.0",
       "_view_name": "StyleView",
       "description_width": ""
      }
     },
     "31760b30d2eb41aa8b5f8544ce97949b": {
      "model_module": "@jupyter-widgets/controls",
      "model_module_version": "1.5.0",
      "model_name": "DescriptionStyleModel",
      "state": {
       "_model_module": "@jupyter-widgets/controls",
       "_model_module_version": "1.5.0",
       "_model_name": "DescriptionStyleModel",
       "_view_count": null,
       "_view_module": "@jupyter-widgets/base",
       "_view_module_version": "1.2.0",
       "_view_name": "StyleView",
       "description_width": ""
      }
     },
     "43709ecc99cd4926a0dd79da3b885505": {
      "model_module": "@jupyter-widgets/controls",
      "model_module_version": "1.5.0",
      "model_name": "HTMLModel",
      "state": {
       "_dom_classes": [],
       "_model_module": "@jupyter-widgets/controls",
       "_model_module_version": "1.5.0",
       "_model_name": "HTMLModel",
       "_view_count": null,
       "_view_module": "@jupyter-widgets/controls",
       "_view_module_version": "1.5.0",
       "_view_name": "HTMLView",
       "description": "",
       "description_tooltip": null,
       "layout": "IPY_MODEL_f24aa476d0614e56bb7db2f0cfe82738",
       "placeholder": "​",
       "style": "IPY_MODEL_31760b30d2eb41aa8b5f8544ce97949b",
       "value": "Computing size-agg-a373f01c509e7fd068137d7ab3a8f030:  95%"
      }
     },
     "50c26070ec6e4cec87cd9262720c3f65": {
      "model_module": "@jupyter-widgets/base",
      "model_module_version": "1.2.0",
      "model_name": "LayoutModel",
      "state": {
       "_model_module": "@jupyter-widgets/base",
       "_model_module_version": "1.2.0",
       "_model_name": "LayoutModel",
       "_view_count": null,
       "_view_module": "@jupyter-widgets/base",
       "_view_module_version": "1.2.0",
       "_view_name": "LayoutView",
       "align_content": null,
       "align_items": null,
       "align_self": null,
       "border": null,
       "bottom": null,
       "display": null,
       "flex": null,
       "flex_flow": null,
       "grid_area": null,
       "grid_auto_columns": null,
       "grid_auto_flow": null,
       "grid_auto_rows": null,
       "grid_column": null,
       "grid_gap": null,
       "grid_row": null,
       "grid_template_areas": null,
       "grid_template_columns": null,
       "grid_template_rows": null,
       "height": null,
       "justify_content": null,
       "justify_items": null,
       "left": null,
       "margin": null,
       "max_height": null,
       "max_width": null,
       "min_height": null,
       "min_width": null,
       "object_fit": null,
       "object_position": null,
       "order": null,
       "overflow": null,
       "overflow_x": null,
       "overflow_y": null,
       "padding": null,
       "right": null,
       "top": null,
       "visibility": null,
       "width": null
      }
     },
     "5cd102ab3b424b2191d5f4f9fea02b4d": {
      "model_module": "@jupyter-widgets/controls",
      "model_module_version": "1.5.0",
      "model_name": "HTMLModel",
      "state": {
       "_dom_classes": [],
       "_model_module": "@jupyter-widgets/controls",
       "_model_module_version": "1.5.0",
       "_model_name": "HTMLModel",
       "_view_count": null,
       "_view_module": "@jupyter-widgets/controls",
       "_view_module_version": "1.5.0",
       "_view_name": "HTMLView",
       "description": "",
       "description_tooltip": null,
       "layout": "IPY_MODEL_50c26070ec6e4cec87cd9262720c3f65",
       "placeholder": "​",
       "style": "IPY_MODEL_301de9d4df7e4386ab973635b5841974",
       "value": " 3360/3553 [00:01&lt;00:00, 2656.77it/s]"
      }
     },
     "71114ab6d84e4306a0d6c457612db784": {
      "model_module": "@jupyter-widgets/controls",
      "model_module_version": "1.5.0",
      "model_name": "FloatProgressModel",
      "state": {
       "_dom_classes": [],
       "_model_module": "@jupyter-widgets/controls",
       "_model_module_version": "1.5.0",
       "_model_name": "FloatProgressModel",
       "_view_count": null,
       "_view_module": "@jupyter-widgets/controls",
       "_view_module_version": "1.5.0",
       "_view_name": "ProgressView",
       "bar_style": "",
       "description": "",
       "description_tooltip": null,
       "layout": "IPY_MODEL_235d27eb8d044981b4a90b827bdeebea",
       "max": 3553,
       "min": 0,
       "orientation": "horizontal",
       "style": "IPY_MODEL_e14625411c724283a1c5d1733bf72ceb",
       "value": 3553
      }
     },
     "e14625411c724283a1c5d1733bf72ceb": {
      "model_module": "@jupyter-widgets/controls",
      "model_module_version": "1.5.0",
      "model_name": "ProgressStyleModel",
      "state": {
       "_model_module": "@jupyter-widgets/controls",
       "_model_module_version": "1.5.0",
       "_model_name": "ProgressStyleModel",
       "_view_count": null,
       "_view_module": "@jupyter-widgets/base",
       "_view_module_version": "1.2.0",
       "_view_name": "StyleView",
       "bar_color": null,
       "description_width": ""
      }
     },
     "ed3becb1ab184240aec9a03b9aa00e7f": {
      "model_module": "@jupyter-widgets/base",
      "model_module_version": "1.2.0",
      "model_name": "LayoutModel",
      "state": {
       "_model_module": "@jupyter-widgets/base",
       "_model_module_version": "1.2.0",
       "_model_name": "LayoutModel",
       "_view_count": null,
       "_view_module": "@jupyter-widgets/base",
       "_view_module_version": "1.2.0",
       "_view_name": "LayoutView",
       "align_content": null,
       "align_items": null,
       "align_self": null,
       "border": null,
       "bottom": null,
       "display": "inline-flex",
       "flex": null,
       "flex_flow": "row wrap",
       "grid_area": null,
       "grid_auto_columns": null,
       "grid_auto_flow": null,
       "grid_auto_rows": null,
       "grid_column": null,
       "grid_gap": null,
       "grid_row": null,
       "grid_template_areas": null,
       "grid_template_columns": null,
       "grid_template_rows": null,
       "height": null,
       "justify_content": null,
       "justify_items": null,
       "left": null,
       "margin": null,
       "max_height": null,
       "max_width": null,
       "min_height": null,
       "min_width": null,
       "object_fit": null,
       "object_position": null,
       "order": null,
       "overflow": null,
       "overflow_x": null,
       "overflow_y": null,
       "padding": null,
       "right": null,
       "top": null,
       "visibility": null,
       "width": "100%"
      }
     },
     "f24aa476d0614e56bb7db2f0cfe82738": {
      "model_module": "@jupyter-widgets/base",
      "model_module_version": "1.2.0",
      "model_name": "LayoutModel",
      "state": {
       "_model_module": "@jupyter-widgets/base",
       "_model_module_version": "1.2.0",
       "_model_name": "LayoutModel",
       "_view_count": null,
       "_view_module": "@jupyter-widgets/base",
       "_view_module_version": "1.2.0",
       "_view_name": "LayoutView",
       "align_content": null,
       "align_items": null,
       "align_self": null,
       "border": null,
       "bottom": null,
       "display": null,
       "flex": null,
       "flex_flow": null,
       "grid_area": null,
       "grid_auto_columns": null,
       "grid_auto_flow": null,
       "grid_auto_rows": null,
       "grid_column": null,
       "grid_gap": null,
       "grid_row": null,
       "grid_template_areas": null,
       "grid_template_columns": null,
       "grid_template_rows": null,
       "height": null,
       "justify_content": null,
       "justify_items": null,
       "left": null,
       "margin": null,
       "max_height": null,
       "max_width": null,
       "min_height": null,
       "min_width": null,
       "object_fit": null,
       "object_position": null,
       "order": null,
       "overflow": null,
       "overflow_x": null,
       "overflow_y": null,
       "padding": null,
       "right": null,
       "top": null,
       "visibility": null,
       "width": null
      }
     },
     "f2f2a1e8dce447baac23e129bab5e013": {
      "model_module": "@jupyter-widgets/controls",
      "model_module_version": "1.5.0",
      "model_name": "HBoxModel",
      "state": {
       "_dom_classes": [],
       "_model_module": "@jupyter-widgets/controls",
       "_model_module_version": "1.5.0",
       "_model_name": "HBoxModel",
       "_view_count": null,
       "_view_module": "@jupyter-widgets/controls",
       "_view_module_version": "1.5.0",
       "_view_name": "HBoxView",
       "box_style": "",
       "children": [
        "IPY_MODEL_43709ecc99cd4926a0dd79da3b885505",
        "IPY_MODEL_71114ab6d84e4306a0d6c457612db784",
        "IPY_MODEL_5cd102ab3b424b2191d5f4f9fea02b4d"
       ],
       "layout": "IPY_MODEL_ed3becb1ab184240aec9a03b9aa00e7f"
      }
     }
    },
    "version_major": 2,
    "version_minor": 0
   }
  }
 },
 "nbformat": 4,
 "nbformat_minor": 5
}
